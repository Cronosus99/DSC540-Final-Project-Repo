{
 "cells": [
  {
   "cell_type": "markdown",
   "id": "5a00a3d6-74d4-4f17-b2c5-1620dd2c01ee",
   "metadata": {},
   "source": [
    "# Final Project\n",
    "# DSC 540 Data Preparation\n",
    "# Kevin Danh"
   ]
  },
  {
   "cell_type": "markdown",
   "id": "b9e7abe8-58b9-48ce-8b26-f0197cba9a63",
   "metadata": {},
   "source": [
    "### Project Milestone 1"
   ]
  },
  {
   "cell_type": "markdown",
   "id": "6fe6e1bd-36e5-4d7b-b21c-f9d31841ef04",
   "metadata": {},
   "source": [
    "This project will look to see the trends that revolve around video games through various datasets/types.\n",
    "\n"
   ]
  }
 ],
 "metadata": {
  "kernelspec": {
   "display_name": "Python [conda env:base] *",
   "language": "python",
   "name": "conda-base-py"
  },
  "language_info": {
   "codemirror_mode": {
    "name": "ipython",
    "version": 3
   },
   "file_extension": ".py",
   "mimetype": "text/x-python",
   "name": "python",
   "nbconvert_exporter": "python",
   "pygments_lexer": "ipython3",
   "version": "3.13.5"
  }
 },
 "nbformat": 4,
 "nbformat_minor": 5
}
